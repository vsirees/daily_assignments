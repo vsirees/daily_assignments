{
 "cells": [
  {
   "cell_type": "code",
   "execution_count": 2,
   "id": "7d1eb723",
   "metadata": {},
   "outputs": [],
   "source": [
    "# 1. Create a 10 variables with your friend names?\n",
    "\n",
    "f1=\"Ramu\"\n",
    "f2=\"Vijaya\"\n",
    "f3=\"Jaswini\"\n",
    "f4=\"Arjun\"\n",
    "f5=\"Arun\"\n",
    "f5=\"Vijaya\"\n",
    "f6=\"Sindhu\"\n",
    "f7=\"Honey\"\n",
    "f8=\"Bhargavi\"\n",
    "f9=\"Nandini\"\n",
    "f10=\"venu\""
   ]
  },
  {
   "cell_type": "code",
   "execution_count": 3,
   "id": "addd8678",
   "metadata": {},
   "outputs": [],
   "source": [
    "#2. Create a 10 variables with your family member names?\n",
    "\n",
    "fam1=\"Ashok\"\n",
    "fam2=\"Sireesha\"\n",
    "fam3=\"Lochan\"\n",
    "fam4=\"Lakshmi\"\n",
    "fam5=\"Nagamani\"\n",
    "fam6=\"Ramesh\"\n",
    "fam7=\"Hitesh\"\n",
    "fam8=\"Chimandeep\"\n",
    "fam9=\"Padma\"\n",
    "fam10=\"Bose\""
   ]
  },
  {
   "cell_type": "code",
   "execution_count": 4,
   "id": "091c63de",
   "metadata": {},
   "outputs": [],
   "source": [
    "# 3. Create a 10 variables with favorite food names?\n",
    "\n",
    "food1=\"Noodles\"\n",
    "food2=\"Pizza\"\n",
    "food3=\"Dosa\"\n",
    "food4=\"Idly\"\n",
    "food5=\"Bajji\"\n",
    "food6=\"Pizza\"\n",
    "food7=\"Upma\"\n",
    "food8=\"Vada\"\n",
    "food9=\"Poori\"\n",
    "food10=\"Pongal\""
   ]
  },
  {
   "cell_type": "code",
   "execution_count": 5,
   "id": "e52a8013",
   "metadata": {},
   "outputs": [],
   "source": [
    "#4. Create a 10 variables with colour  names?\n",
    "\n",
    "colour1=\"Red\"\n",
    "colour2=\"Green\"\n",
    "colour3=\"Orange\"\n",
    "colour4=\"Purple\"\n",
    "colour5=\"Blue\"\n",
    "colour6=\"Pink\"\n",
    "colour7=\"Yellow\"\n",
    "colour8=\"Violet\"\n",
    "colour9=\"Black\"\n",
    "colour10=\"White\""
   ]
  },
  {
   "cell_type": "code",
   "execution_count": 6,
   "id": "13e8d107",
   "metadata": {},
   "outputs": [],
   "source": [
    "#5. Create a 12 variables with month  names?\n",
    "\n",
    "month1=\"January\"\n",
    "month2=\"February\"\n",
    "month3=\"March\"\n",
    "month4=\"April\"\n",
    "month5=\"May\"\n",
    "month6=\"June\"\n",
    "month7=\"July\"\n",
    "month8=\"August\"\n",
    "month9=\"September\"\n",
    "month10=\"October\"\n",
    "month11=\"November\"\n",
    "month12=\"December\""
   ]
  },
  {
   "cell_type": "code",
   "execution_count": 7,
   "id": "5497da3e",
   "metadata": {},
   "outputs": [],
   "source": [
    "#6. Create a 10 variables with game  names?\n",
    "\n",
    "game1=\"Chess\"\n",
    "game2=\"Carroms\"\n",
    "game3=\"Cricket\"\n",
    "game4=\"Kabaddi\"\n",
    "game5=\"Ring\"\n",
    "game6=\"Tennis\"\n",
    "game7=\"Shuttle\"\n",
    "game8=\"Ludo\"\n",
    "game9=\"Puzzle\"\n",
    "game10=\"Card_games\"\n"
   ]
  },
  {
   "cell_type": "code",
   "execution_count": 8,
   "id": "57d8689c",
   "metadata": {},
   "outputs": [],
   "source": [
    "#7. Create a 10 variables with city  names?\n",
    "\n",
    "city1=\"Vijayawada\"\n",
    "city2=\"Guntur\"\n",
    "city3=\"Hyderabad\"\n",
    "city4=\"Secunderabad\"\n",
    "city5=\"Mumbai\"\n",
    "city6=\"Chennai\"\n",
    "city7=\"Kolkata\"\n",
    "city8=\"Bangalore\"\n",
    "city9=\"Vizag\"\n",
    "city10=\"Pune\""
   ]
  },
  {
   "cell_type": "code",
   "execution_count": 14,
   "id": "65d8d64d",
   "metadata": {},
   "outputs": [],
   "source": [
    "#8. Create a list (friend_names) with your friend names (10 names)?\n",
    "\n",
    "friend_names=[\"Ramu\",\"Arun\",\"Vijaya\",\"Arjun\",\"Sindhu\",\"Honey\",\"Bhargavi\",\"Jaswini\",\"Nandini\",\"Venu\"]"
   ]
  },
  {
   "cell_type": "code",
   "execution_count": 15,
   "id": "abf97f72",
   "metadata": {},
   "outputs": [
    {
     "name": "stdout",
     "output_type": "stream",
     "text": [
      "['Ramu', 'Arun', 'Vijaya', 'Arjun', 'Sindhu', 'Honey', 'Bhargavi', 'Jaswini', 'Nandini', 'Venu']\n"
     ]
    }
   ],
   "source": [
    "print(friend_names)"
   ]
  },
  {
   "cell_type": "code",
   "execution_count": 20,
   "id": "33ef00ec",
   "metadata": {},
   "outputs": [],
   "source": [
    "#9. Create a tuple (\t) with your family members?\n",
    "\n",
    "family_members=(\"Ashok\",\"Sireesha\",\"Lochan\",\"Lakshmi\",\"Ramesh\",\"Nagamani\",\"Hitesh\",\"Chimandeep\",\"Padma\",\"Bose\")"
   ]
  },
  {
   "cell_type": "code",
   "execution_count": 21,
   "id": "522300e6",
   "metadata": {},
   "outputs": [
    {
     "name": "stdout",
     "output_type": "stream",
     "text": [
      "('Ashok', 'Sireesha', 'Lochan', 'Lakshmi', 'Ramesh', 'Nagamani', 'Hitesh', 'Chimandeep', 'Padma', 'Bose')\n"
     ]
    }
   ],
   "source": [
    "print(family_members)"
   ]
  },
  {
   "cell_type": "code",
   "execution_count": 25,
   "id": "6226c6c3",
   "metadata": {},
   "outputs": [
    {
     "name": "stdout",
     "output_type": "stream",
     "text": [
      "{'Orange', 'Violet', 'Purple', 'Pink', 'White', 'Green', 'Red', 'Black', 'Blue', 'Yellow'}\n"
     ]
    }
   ],
   "source": [
    "#10. Create a set (colours) with colour names(10 names)?\n",
    "\n",
    "colours={\"Red\", \"Green\", \"Black\", \"White\", \"Purple\", \"Pink\",\"Violet\",\"Yellow\",\"Orange\",\"Blue\"}\n",
    "print(colours)"
   ]
  },
  {
   "cell_type": "code",
   "execution_count": 29,
   "id": "7753d654",
   "metadata": {},
   "outputs": [
    {
     "name": "stdout",
     "output_type": "stream",
     "text": [
      "[1, 2, 3, 4, 5, 6, 7, 8, 9, 10]\n"
     ]
    }
   ],
   "source": [
    "#11. month_names=[1,9,10,5,3,2,7,8,6,4] , sort the list--> write a program?\n",
    "\n",
    "month_names=[1,9,10,5,3,2,7,8,6,4]\n",
    "month_names.sort()\n",
    "print(month_names)"
   ]
  },
  {
   "cell_type": "code",
   "execution_count": 31,
   "id": "798dbcae",
   "metadata": {},
   "outputs": [
    {
     "name": "stdout",
     "output_type": "stream",
     "text": [
      "['chiranjeevi', 'balakrishan', 'nagarjuna', 'venky', 'pawan kalyan', 'maheshbabu', 'NT rama rao', 'ramcharan']\n"
     ]
    }
   ],
   "source": [
    "#12. tollywood_heros=[\"chiru\", \"balaya\", \"nag\",\"venky\",\"powerstar\",\"superstar\",\"ntr\",\"ramcharan\"], write a program?\n",
    "#expected output:tollywood_heros=[\"chiranjeevi\", \"balakrishan\", \"nagarjuna\",\"venky\",\"pawan kalyan\",\"maheshbabu\",\"NT rama rao\",\"ramcharan\"]\n",
    "\n",
    "tollywood_heros=[\"chiru\", \"balaya\", \"nag\",\"venky\",\"powerstar\",\"superstar\",\"ntr\",\"ramcharan\"]\n",
    "tollywood_heros[0:9]=[\"chiranjeevi\", \"balakrishan\", \"nagarjuna\",\"venky\",\"pawan kalyan\",\"maheshbabu\",\"NT rama rao\",\"ramcharan\"]\n",
    "print(tollywood_heros)"
   ]
  },
  {
   "cell_type": "code",
   "execution_count": 38,
   "id": "959153f7",
   "metadata": {},
   "outputs": [
    {
     "name": "stdout",
     "output_type": "stream",
     "text": [
      "{'Akshay Kumar', 'salmankhan', 'sharukkhan', 'Amitabh Bachchan', 'amirkhan', 'HrithikRoshan'}\n"
     ]
    }
   ],
   "source": [
    "#13. bollywood_heros=[\"sharukkhan\", \"salmankhan\", \"salmankhan\",\"amirkhan\",\"HrithikRoshan\",\"Amitabh Bachchan\",\"Akshay Kumar\",\"amirkhan\"], write a program to remove duplicates?\n",
    "bollywood_heros_list=[\"sharukkhan\", \"salmankhan\", \"salmankhan\",\"amirkhan\",\"HrithikRoshan\",\"Amitabh Bachchan\",\"Akshay Kumar\",\"amirkhan\"]\n",
    "bollywood_heros=set(bollywood_heros_list)\n",
    "print(bollywood_heros)"
   ]
  },
  {
   "cell_type": "code",
   "execution_count": 37,
   "id": "24269cca",
   "metadata": {},
   "outputs": [
    {
     "name": "stdout",
     "output_type": "stream",
     "text": [
      "{'Akshay Kumar', 'salmankhan', 'sharukkhan', 'Amitabh Bachchan', 'amirkhan', 'HrithikRoshan'}\n"
     ]
    }
   ],
   "source": [
    "bollywood_hero=set([\"sharukkhan\", \"salmankhan\", \"salmankhan\",\"amirkhan\",\"HrithikRoshan\",\"Amitabh Bachchan\",\"Akshay Kumar\",\"amirkhan\"])\n",
    "print(bollywood_hero)"
   ]
  },
  {
   "cell_type": "code",
   "execution_count": null,
   "id": "bb83e01f",
   "metadata": {},
   "outputs": [],
   "source": [
    "#14. breakfast_items=[\"upma\",\"dosa\",\"idly\",\"puri\",\"punugulu\",\"roti\",\"chapathi\", \"parota\",\"mysoor baji\",\"minapa baji\"], print your favorite breakfast itme?\n",
    "# example: My Favorite breakfast time is mysoor baji\n"
   ]
  },
  {
   "cell_type": "code",
   "execution_count": 65,
   "id": "8e10448c",
   "metadata": {},
   "outputs": [
    {
     "name": "stdout",
     "output_type": "stream",
     "text": [
      "My Favorite breakfast item is upma\n",
      "My Favorite breakfast item is dosa\n",
      "My Favorite breakfast item is idly\n",
      "My Favorite breakfast item is puri\n",
      "My Favorite breakfast item is punugulu\n",
      "My Favorite breakfast item is roti\n",
      "My Favorite breakfast item is chapathi\n",
      "My Favorite breakfast item is parota\n",
      "My Favorite breakfast item is mysoor baji\n",
      "My Favorite breakfast item is minapa baji\n"
     ]
    }
   ],
   "source": [
    "breakfast_items=[\"upma\",\"dosa\",\"idly\",\"puri\",\"punugulu\",\"roti\",\"chapathi\", \"parota\",\"mysoor baji\",\"minapa baji\"]\n",
    "for i in breakfast_items:\n",
    "    print(\"My Favorite breakfast item is\", i)"
   ]
  },
  {
   "cell_type": "code",
   "execution_count": 64,
   "id": "ddbdb581",
   "metadata": {},
   "outputs": [
    {
     "name": "stdout",
     "output_type": "stream",
     "text": [
      " My Favorite breakfast item is dosa\n"
     ]
    }
   ],
   "source": [
    "breakfast_items=[\"upma\",\"dosa\",\"idly\",\"puri\",\"punugulu\",\"roti\",\"chapathi\", \"parota\",\"mysoor baji\",\"minapa baji\"]\n",
    "def my_fav(breakfast_items):  \n",
    "  print(\" My Favorite breakfast item is\", breakfast_items)\n",
    "my_fav(\"dosa\")"
   ]
  }
 ],
 "metadata": {
  "kernelspec": {
   "display_name": "Python 3 (ipykernel)",
   "language": "python",
   "name": "python3"
  },
  "language_info": {
   "codemirror_mode": {
    "name": "ipython",
    "version": 3
   },
   "file_extension": ".py",
   "mimetype": "text/x-python",
   "name": "python",
   "nbconvert_exporter": "python",
   "pygments_lexer": "ipython3",
   "version": "3.9.12"
  }
 },
 "nbformat": 4,
 "nbformat_minor": 5
}
