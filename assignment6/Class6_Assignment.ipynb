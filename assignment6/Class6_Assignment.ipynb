{
 "cells": [
  {
   "cell_type": "code",
   "execution_count": null,
   "id": "d4dcddc6",
   "metadata": {},
   "outputs": [],
   "source": [
    "# 6. Create a list(friend_names) with your friends names(atleaste 10 names)?\n",
    "# print all names with in loop \n",
    "# Expected Output: my friend name is \"ravi\"\n",
    "# \t\t     my friend name is \"shanker\""
   ]
  },
  {
   "cell_type": "code",
   "execution_count": 2,
   "id": "45562d2c",
   "metadata": {},
   "outputs": [
    {
     "name": "stdout",
     "output_type": "stream",
     "text": [
      "My friend name is Ramu\n",
      "My friend name is Arun\n",
      "My friend name is Vijaya\n",
      "My friend name is Arjun\n",
      "My friend name is Sindhu\n",
      "My friend name is Honey\n",
      "My friend name is Bhargavi\n",
      "My friend name is Jaswini\n",
      "My friend name is Nandini\n",
      "My friend name is Venu\n"
     ]
    }
   ],
   "source": [
    "friend_names=[\"Ramu\",\"Arun\",\"Vijaya\",\"Arjun\",\"Sindhu\",\"Honey\",\"Bhargavi\",\"Jaswini\",\"Nandini\",\"Venu\"]\n",
    "for i in friend_names:\n",
    "    print(\"My friend name is\", i)"
   ]
  },
  {
   "cell_type": "code",
   "execution_count": null,
   "id": "53585b59",
   "metadata": {},
   "outputs": [],
   "source": [
    "# 7. Create a list(family_members) with your family members names(atleaste 10 names)?\n",
    "# print all names with in loop "
   ]
  },
  {
   "cell_type": "code",
   "execution_count": 4,
   "id": "34671244",
   "metadata": {},
   "outputs": [
    {
     "name": "stdout",
     "output_type": "stream",
     "text": [
      "My family member name is Ashok\n",
      "My family member name is Sireesha\n",
      "My family member name is Lochan\n",
      "My family member name is Lakshmi\n",
      "My family member name is Ramesh\n",
      "My family member name is Nagamani\n",
      "My family member name is Hitesh\n",
      "My family member name is Chimandeep\n",
      "My family member name is Padma\n",
      "My family member name is Bose\n"
     ]
    }
   ],
   "source": [
    "family_members=[\"Ashok\",\"Sireesha\",\"Lochan\",\"Lakshmi\",\"Ramesh\",\"Nagamani\",\"Hitesh\",\"Chimandeep\",\"Padma\",\"Bose\"]\n",
    "for i in family_members:\n",
    "    print(\"My family member name is\", i)"
   ]
  },
  {
   "cell_type": "code",
   "execution_count": null,
   "id": "db304a33",
   "metadata": {},
   "outputs": [],
   "source": [
    "# 8. Create a list(food_names) with your favorite food names(atleaste 10 names only veg)?\n",
    "# print all names with in loop"
   ]
  },
  {
   "cell_type": "code",
   "execution_count": 6,
   "id": "7f033074",
   "metadata": {},
   "outputs": [
    {
     "name": "stdout",
     "output_type": "stream",
     "text": [
      "Food item is upma\n",
      "Food item is dosa\n",
      "Food item is idly\n",
      "Food item is puri\n",
      "Food item is punugulu\n",
      "Food item is roti\n",
      "Food item is chapathi\n",
      "Food item is parota\n",
      "Food item is mysoor baji\n",
      "Food item is minapa baji\n"
     ]
    }
   ],
   "source": [
    "food_items=[\"upma\",\"dosa\",\"idly\",\"puri\",\"punugulu\",\"roti\",\"chapathi\", \"parota\",\"mysoor baji\",\"minapa baji\"]\n",
    "for i in food_items:\n",
    "    print(\"Food item is\", i)"
   ]
  },
  {
   "cell_type": "code",
   "execution_count": null,
   "id": "a60db487",
   "metadata": {},
   "outputs": [],
   "source": [
    "# 9. Create a tuple(food_names) with your favorite food names(atleaste 10 names only nonveg)?\n",
    "# print all names with in loop"
   ]
  },
  {
   "cell_type": "code",
   "execution_count": 8,
   "id": "22687219",
   "metadata": {},
   "outputs": [
    {
     "name": "stdout",
     "output_type": "stream",
     "text": [
      "Food item is upma\n",
      "Food item is dosa\n",
      "Food item is idly\n",
      "Food item is puri\n",
      "Food item is punugulu\n",
      "Food item is roti\n",
      "Food item is chapathi\n",
      "Food item is parota\n",
      "Food item is mysoor baji\n",
      "Food item is minapa baji\n"
     ]
    }
   ],
   "source": [
    "food_name=(\"upma\",\"dosa\",\"idly\",\"puri\",\"punugulu\",\"roti\",\"chapathi\", \"parota\",\"mysoor baji\",\"minapa baji\")\n",
    "for i in food_items:\n",
    "    print(\"Food item is\", i)"
   ]
  },
  {
   "cell_type": "code",
   "execution_count": null,
   "id": "3dd3cf3b",
   "metadata": {},
   "outputs": [],
   "source": [
    "# 10. Create a set(colour_names) with your colour names(atleaste 10 names)?\n",
    "# print all names with in loop "
   ]
  },
  {
   "cell_type": "code",
   "execution_count": 10,
   "id": "87eee958",
   "metadata": {},
   "outputs": [
    {
     "name": "stdout",
     "output_type": "stream",
     "text": [
      "Colour name is Purple\n",
      "Colour name is Orange\n",
      "Colour name is Pink\n",
      "Colour name is Red\n",
      "Colour name is Violet\n",
      "Colour name is Black\n",
      "Colour name is Yellow\n",
      "Colour name is Green\n",
      "Colour name is White\n",
      "Colour name is Blue\n"
     ]
    }
   ],
   "source": [
    "colours={\"Red\", \"Green\", \"Black\", \"White\", \"Purple\", \"Pink\",\"Violet\",\"Yellow\",\"Orange\",\"Blue\"}\n",
    "for i in colours:\n",
    "    print(\"Colour name is\", i)"
   ]
  },
  {
   "cell_type": "code",
   "execution_count": null,
   "id": "6c6dd38a",
   "metadata": {},
   "outputs": [],
   "source": [
    "# 11. Create a list(month_names) with your month names(atleaste 10 names)?\n",
    "# print all names with in loop "
   ]
  },
  {
   "cell_type": "code",
   "execution_count": 12,
   "id": "8a0db5c7",
   "metadata": {},
   "outputs": [
    {
     "name": "stdout",
     "output_type": "stream",
     "text": [
      "Month name is Jan\n",
      "Month name is Feb\n",
      "Month name is March\n",
      "Month name is April\n",
      "Month name is May\n",
      "Month name is June\n",
      "Month name is July\n",
      "Month name is Aug\n",
      "Month name is Sep\n",
      "Month name is Oct\n",
      "Month name is Nov\n",
      "Month name is Dec\n"
     ]
    }
   ],
   "source": [
    "month_names=[\"Jan\",\"Feb\",\"March\",\"April\",\"May\",\"June\",\"July\",\"Aug\",\"Sep\",\"Oct\",\"Nov\",\"Dec\"]\n",
    "for i in month_names:\n",
    "    print(\"Month name is\", i)"
   ]
  },
  {
   "cell_type": "code",
   "execution_count": null,
   "id": "636bc559",
   "metadata": {},
   "outputs": [],
   "source": [
    "# 12. print 9th table (1 to 90)"
   ]
  },
  {
   "cell_type": "code",
   "execution_count": 6,
   "id": "501aec7d",
   "metadata": {},
   "outputs": [
    {
     "name": "stdout",
     "output_type": "stream",
     "text": [
      "9 x 1 = 9\n",
      "9 x 2 = 18\n",
      "9 x 3 = 27\n",
      "9 x 4 = 36\n",
      "9 x 5 = 45\n",
      "9 x 6 = 54\n",
      "9 x 7 = 63\n",
      "9 x 8 = 72\n",
      "9 x 9 = 81\n",
      "9 x 10 = 90\n"
     ]
    }
   ],
   "source": [
    "table=9\n",
    "for i in range(1,11):\n",
    "    print(table, 'x', i, '=', table*i)"
   ]
  },
  {
   "cell_type": "code",
   "execution_count": null,
   "id": "13f03b52",
   "metadata": {},
   "outputs": [],
   "source": [
    "# 13. print(12th table (1 to 120)"
   ]
  },
  {
   "cell_type": "code",
   "execution_count": 7,
   "id": "9891901e",
   "metadata": {},
   "outputs": [
    {
     "name": "stdout",
     "output_type": "stream",
     "text": [
      "12 x 1 = 12\n",
      "12 x 2 = 24\n",
      "12 x 3 = 36\n",
      "12 x 4 = 48\n",
      "12 x 5 = 60\n",
      "12 x 6 = 72\n",
      "12 x 7 = 84\n",
      "12 x 8 = 96\n",
      "12 x 9 = 108\n",
      "12 x 10 = 120\n"
     ]
    }
   ],
   "source": [
    "table=12\n",
    "for i in range(1,11):\n",
    "    print(table, 'x', i, '=', table*i)"
   ]
  }
 ],
 "metadata": {
  "kernelspec": {
   "display_name": "Python 3 (ipykernel)",
   "language": "python",
   "name": "python3"
  },
  "language_info": {
   "codemirror_mode": {
    "name": "ipython",
    "version": 3
   },
   "file_extension": ".py",
   "mimetype": "text/x-python",
   "name": "python",
   "nbconvert_exporter": "python",
   "pygments_lexer": "ipython3",
   "version": "3.9.12"
  }
 },
 "nbformat": 4,
 "nbformat_minor": 5
}
