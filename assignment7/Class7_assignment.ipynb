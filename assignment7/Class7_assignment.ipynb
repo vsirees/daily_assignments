{
 "cells": [
  {
   "cell_type": "code",
   "execution_count": null,
   "id": "ce0e1f41",
   "metadata": {},
   "outputs": [],
   "source": [
    "# Scenario1:\n",
    "# credit card offer.\n",
    "#  if your salary is less than 10000.  credit limit 10 times of your salary. \n",
    "#  if your salary is 10000 to 30000.  Credit limit is 20 time of your salary.\n",
    "#  if your salary is more than 30000.  Credit limit is 30 times of your salary."
   ]
  },
  {
   "cell_type": "code",
   "execution_count": 1,
   "id": "62ac739d",
   "metadata": {},
   "outputs": [
    {
     "name": "stdout",
     "output_type": "stream",
     "text": [
      "Credit card offer is 500000\n"
     ]
    }
   ],
   "source": [
    "def credit_card(salary):\n",
    "    if salary<10000:\n",
    "        credit_limit=salary*10\n",
    "        return(credit_limit)\n",
    "    elif salary>=10000 or salary<=30000:\n",
    "        credit_limit=salary*20\n",
    "        return(credit_limit)\n",
    "    elif salary>=30000:\n",
    "        credit_limit=salary*30\n",
    "        return(credit_limit)\n",
    "    else:\n",
    "        print(\"Offer not available\")\n",
    "print(\"Credit card offer is\", credit_card(25000))"
   ]
  },
  {
   "cell_type": "code",
   "execution_count": 4,
   "id": "beffc6f9",
   "metadata": {},
   "outputs": [
    {
     "name": "stdout",
     "output_type": "stream",
     "text": [
      "Credit limit is 500000\n"
     ]
    }
   ],
   "source": [
    "print (\"Credit limit is\", credit_card(25000))\n"
   ]
  },
  {
   "cell_type": "code",
   "execution_count": null,
   "id": "e20e7434",
   "metadata": {},
   "outputs": [],
   "source": [
    "#  Scenario2:\n",
    "#  DMart discount offer. \n",
    "#  if your purchase amount is less than 20000. discount is 20%.\n",
    "# if your purchase amount is 20000 to 40000. discount is 30%. \n",
    "# if your purchase amount is more than 50000. discount is 40%."
   ]
  },
  {
   "cell_type": "code",
   "execution_count": 11,
   "id": "15dd8e22",
   "metadata": {},
   "outputs": [
    {
     "name": "stdout",
     "output_type": "stream",
     "text": [
      "Discount offer is 13500.0\n",
      "Final price after discount is 31500.0\n"
     ]
    }
   ],
   "source": [
    "def dmart_offer(amount):\n",
    "    if amount<=20000:\n",
    "        discount=amount*0.2\n",
    "        return(discount)\n",
    "    elif amount>=20000 or amount<=40000:\n",
    "        discount=amount*0.3\n",
    "        return(discount)\n",
    "    elif amount>=50000:\n",
    "        discount=amount*0.4\n",
    "        return(discount)\n",
    "    else:\n",
    "        print(\"No offers available\")\n",
    "dmart_offer(45000)\n",
    "amount=45000\n",
    "print(\"Discount offer is\",dmart_offer(45000))\n",
    "final_price=amount-dmart_offer(45000)\n",
    "print(\"Final price after discount is\",final_price)"
   ]
  },
  {
   "cell_type": "code",
   "execution_count": null,
   "id": "1a1f0460",
   "metadata": {},
   "outputs": [],
   "source": []
  },
  {
   "cell_type": "code",
   "execution_count": null,
   "id": "fa3825c5",
   "metadata": {},
   "outputs": [],
   "source": [
    "# Scenario3:\n",
    "# Amazon online offer. \n",
    "# if product is electoric type then 20% discount. \n",
    "# if product is cloth type then 30% discount. \n",
    "# if product is footware then 40% discount."
   ]
  },
  {
   "cell_type": "code",
   "execution_count": 20,
   "id": "c5a00670",
   "metadata": {},
   "outputs": [
    {
     "name": "stdout",
     "output_type": "stream",
     "text": [
      "Discount for electric products is 20%\n"
     ]
    }
   ],
   "source": [
    "def amazon_offer(product_type):\n",
    "    if product_type==\"electric\":\n",
    "        print(\"Discount for electric products is 20%\")\n",
    "    elif product_type==\"clothes\":\n",
    "        print(\"Discount for clothes products is 30%\")\n",
    "    elif product_type==\"footware\":\n",
    "        print(\"Discount for footware products is 40%\")\n",
    "    else:\n",
    "        print(\"No discount is available\")\n",
    "amazon_offer(\"electric\")"
   ]
  },
  {
   "cell_type": "code",
   "execution_count": null,
   "id": "08bd4c19",
   "metadata": {},
   "outputs": [],
   "source": []
  },
  {
   "cell_type": "code",
   "execution_count": null,
   "id": "14787d0f",
   "metadata": {},
   "outputs": [],
   "source": []
  },
  {
   "cell_type": "code",
   "execution_count": null,
   "id": "2d18328e",
   "metadata": {},
   "outputs": [],
   "source": []
  }
 ],
 "metadata": {
  "kernelspec": {
   "display_name": "Python 3 (ipykernel)",
   "language": "python",
   "name": "python3"
  },
  "language_info": {
   "codemirror_mode": {
    "name": "ipython",
    "version": 3
   },
   "file_extension": ".py",
   "mimetype": "text/x-python",
   "name": "python",
   "nbconvert_exporter": "python",
   "pygments_lexer": "ipython3",
   "version": "3.9.12"
  }
 },
 "nbformat": 4,
 "nbformat_minor": 5
}
