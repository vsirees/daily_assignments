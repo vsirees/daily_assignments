{
 "cells": [
  {
   "cell_type": "code",
   "execution_count": null,
   "id": "d6bba889",
   "metadata": {},
   "outputs": [],
   "source": [
    "# Write a program, my age is more than 20 print teen_age otherwise print younge_age?\n",
    "# \ta.my_age is 20, who am i? Expected output: you are teen_age\n",
    "# \tb.my_age is 30, who am i? Expected output: you are younge_age\n",
    "# \tc.my_age is 10, who am i? \n",
    "# \td.my_age is 40, who am i? \n"
   ]
  },
  {
   "cell_type": "code",
   "execution_count": 11,
   "id": "2febf462",
   "metadata": {},
   "outputs": [
    {
     "name": "stdout",
     "output_type": "stream",
     "text": [
      "You are young age\n"
     ]
    }
   ],
   "source": [
    "my_age=20\n",
    "if my_age>20:\n",
    "    print(\"you are teen_age\")\n",
    "else:\n",
    "    print(\"You are young age\")"
   ]
  },
  {
   "cell_type": "code",
   "execution_count": 12,
   "id": "14e3c719",
   "metadata": {},
   "outputs": [
    {
     "name": "stdout",
     "output_type": "stream",
     "text": [
      "you are teen_age\n"
     ]
    }
   ],
   "source": [
    "my_age=30\n",
    "if my_age>20:\n",
    "    print(\"you are teen_age\")\n",
    "else:\n",
    "    print(\"You are young age\")"
   ]
  },
  {
   "cell_type": "code",
   "execution_count": 13,
   "id": "30315a7a",
   "metadata": {},
   "outputs": [
    {
     "name": "stdout",
     "output_type": "stream",
     "text": [
      "You are young age\n"
     ]
    }
   ],
   "source": [
    "my_age=10\n",
    "if my_age>20:\n",
    "    print(\"you are teen_age\")\n",
    "else:\n",
    "    print(\"You are young age\")"
   ]
  },
  {
   "cell_type": "code",
   "execution_count": 14,
   "id": "71a900b0",
   "metadata": {},
   "outputs": [
    {
     "name": "stdout",
     "output_type": "stream",
     "text": [
      "you are teen_age\n"
     ]
    }
   ],
   "source": [
    "my_age=40\n",
    "if my_age>20:\n",
    "    print(\"you are teen_age\")\n",
    "else:\n",
    "    print(\"You are young age\")"
   ]
  },
  {
   "cell_type": "code",
   "execution_count": null,
   "id": "ac74bb6c",
   "metadata": {},
   "outputs": [],
   "source": []
  },
  {
   "cell_type": "code",
   "execution_count": null,
   "id": "622b67a0",
   "metadata": {},
   "outputs": [],
   "source": [
    "# Write a program today is Monday/Tuesday/Wendsday/Thursday/Friday print weekday otherwise print weekend?\n"
   ]
  },
  {
   "cell_type": "code",
   "execution_count": 5,
   "id": "6815f187",
   "metadata": {},
   "outputs": [
    {
     "name": "stdout",
     "output_type": "stream",
     "text": [
      "Today is Monday It's a weekend\n"
     ]
    }
   ],
   "source": [
    "day=\"Monday\"\n",
    "if day==\"Saturday\" or \"Sunday\":\n",
    "    print(\"Today is\", day, \"It's a weekend\")\n",
    "else:\n",
    "    print(\"Today is\", day, \"It's a weekday\")"
   ]
  },
  {
   "cell_type": "code",
   "execution_count": null,
   "id": "7199de37",
   "metadata": {},
   "outputs": [],
   "source": []
  },
  {
   "cell_type": "code",
   "execution_count": null,
   "id": "6e1169e6",
   "metadata": {},
   "outputs": [],
   "source": [
    "# Scenario1: Today my business income is 10/- if my income is more than 10/- then print \"i am profitable\" \n",
    "#     otherwise print \"i lost\""
   ]
  },
  {
   "cell_type": "code",
   "execution_count": 6,
   "id": "27e102c2",
   "metadata": {},
   "outputs": [
    {
     "name": "stdout",
     "output_type": "stream",
     "text": [
      "I'm profitable\n"
     ]
    }
   ],
   "source": [
    "income=10\n",
    "if income>=10:\n",
    "    print(\"I'm profitable\")\n",
    "else:\n",
    "    print(\"I lost\")"
   ]
  },
  {
   "cell_type": "code",
   "execution_count": null,
   "id": "1acf40a5",
   "metadata": {},
   "outputs": [],
   "source": []
  },
  {
   "cell_type": "code",
   "execution_count": null,
   "id": "b135d030",
   "metadata": {},
   "outputs": [],
   "source": [
    "# Scenario2: your age is more than your sister age then print \"i am elder\" otherwise print \"i am younger\""
   ]
  },
  {
   "cell_type": "code",
   "execution_count": 7,
   "id": "8551ef9d",
   "metadata": {},
   "outputs": [
    {
     "name": "stdout",
     "output_type": "stream",
     "text": [
      "I'm older\n"
     ]
    }
   ],
   "source": [
    "my_age=10\n",
    "sister_age=5\n",
    "if my_age>sister_age:\n",
    "    print(\"I'm older\")\n",
    "else:\n",
    "    print(\"I'm younger\")"
   ]
  },
  {
   "cell_type": "code",
   "execution_count": null,
   "id": "d293fd68",
   "metadata": {},
   "outputs": [],
   "source": []
  },
  {
   "cell_type": "code",
   "execution_count": null,
   "id": "2f4c8bb5",
   "metadata": {},
   "outputs": [],
   "source": [
    "# Scenario3: festival offer in my shop. \n",
    "# purchase amount more than 100 then print 30% discount.\n",
    "#  purchase amount less than 50 then print 10% discount \n",
    "#  otherwise print 20% discount.\t"
   ]
  },
  {
   "cell_type": "code",
   "execution_count": 10,
   "id": "3f209a3f",
   "metadata": {},
   "outputs": [
    {
     "name": "stdout",
     "output_type": "stream",
     "text": [
      "You will get 10% discount\n"
     ]
    }
   ],
   "source": [
    "purchase_amount=20\n",
    "if purchase_amount>=100:\n",
    "    print(\"You will get 30% discount\")\n",
    "elif purchase_amount<=50:\n",
    "    print(\"You will get 10% discount\")\n",
    "else:\n",
    "    print(\"You will get 20% discount\")"
   ]
  },
  {
   "cell_type": "code",
   "execution_count": null,
   "id": "eb29b9db",
   "metadata": {},
   "outputs": [],
   "source": []
  },
  {
   "cell_type": "code",
   "execution_count": null,
   "id": "e3dfc07d",
   "metadata": {},
   "outputs": [],
   "source": [
    "# Scenario4:my movie theater prices. price is 140 - print balconies. price is 50 - print chairs. price is 100 - print benches"
   ]
  },
  {
   "cell_type": "code",
   "execution_count": 16,
   "id": "bbe4f56d",
   "metadata": {},
   "outputs": [
    {
     "name": "stdout",
     "output_type": "stream",
     "text": [
      "Your ticket is for balcony\n"
     ]
    }
   ],
   "source": [
    "ticket_price=140\n",
    "if ticket_price==140:\n",
    "    print(\"Your ticket is for balcony\")\n",
    "elif ticket_price==50:\n",
    "    print(\"Your ticket is for chair\")\n",
    "elif ticket_price==100:\n",
    "    print(\"Your ticket is for bench\")\n",
    "else:\n",
    "    print(\"Wrong ticket\")"
   ]
  },
  {
   "cell_type": "code",
   "execution_count": null,
   "id": "42541ea4",
   "metadata": {},
   "outputs": [],
   "source": []
  },
  {
   "cell_type": "code",
   "execution_count": null,
   "id": "bb878fe3",
   "metadata": {},
   "outputs": [],
   "source": [
    "# Scenario5: my showroom vehicle types. \n",
    "# if vehicle type is two-wheeler print bike and scooty. \n",
    "# if vehicle type is four-wheeler print car, lorry, van and zeep"
   ]
  },
  {
   "cell_type": "code",
   "execution_count": 17,
   "id": "510a91a3",
   "metadata": {},
   "outputs": [
    {
     "name": "stdout",
     "output_type": "stream",
     "text": [
      "Bike and Scooty are available\n"
     ]
    }
   ],
   "source": [
    "vehicle_type=\"Two wheeler\"\n",
    "if vehicle_type==\"Two wheeler\":\n",
    "    print(\"Bike and Scooty are available\")\n",
    "elif vehicle_type==\"Four wheeler\":\n",
    "    print(\"Car, Lorry, Van and Zeep are available\")\n",
    "else:\n",
    "    print(\"No vehicle is available\")"
   ]
  },
  {
   "cell_type": "code",
   "execution_count": 18,
   "id": "d4ecb69b",
   "metadata": {},
   "outputs": [
    {
     "name": "stdout",
     "output_type": "stream",
     "text": [
      "Car, Lorry, Van and Zeep are available\n"
     ]
    }
   ],
   "source": [
    "vehicle_type=\"Four wheeler\"\n",
    "if vehicle_type==\"Two wheeler\":\n",
    "    print(\"Bike and Scooty are available\")\n",
    "elif vehicle_type==\"Four wheeler\":\n",
    "    print(\"Car, Lorry, Van and Zeep are available\")\n",
    "else:\n",
    "    print(\"No vehicle is available\")"
   ]
  }
 ],
 "metadata": {
  "kernelspec": {
   "display_name": "Python 3 (ipykernel)",
   "language": "python",
   "name": "python3"
  },
  "language_info": {
   "codemirror_mode": {
    "name": "ipython",
    "version": 3
   },
   "file_extension": ".py",
   "mimetype": "text/x-python",
   "name": "python",
   "nbconvert_exporter": "python",
   "pygments_lexer": "ipython3",
   "version": "3.9.12"
  }
 },
 "nbformat": 4,
 "nbformat_minor": 5
}
