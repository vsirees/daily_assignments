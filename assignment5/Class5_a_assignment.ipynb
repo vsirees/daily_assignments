{
 "cells": [
  {
   "cell_type": "code",
   "execution_count": 10,
   "id": "1666c3e7",
   "metadata": {},
   "outputs": [
    {
     "name": "stdout",
     "output_type": "stream",
     "text": [
      "{'family_member': ['Prasad', 'Guna', 'Srinu', 'Rani', 'Prem', 'Ashok', 'Amala', 'Dev', 'Venkat', 'Sai']}\n"
     ]
    }
   ],
   "source": [
    "# 3. Create a dict with your family members(at least 10 names)?\n",
    "family={\"family_member\":[\"Prasad\", \"Guna\", \"Srinu\", \"Rani\", \"Prem\", \"Ashok\", \"Amala\", \"Dev\", \"Venkat\", \"Sai\"]}\n",
    "print(family)"
   ]
  },
  {
   "cell_type": "code",
   "execution_count": 30,
   "id": "4a1ac24f",
   "metadata": {},
   "outputs": [],
   "source": [
    "# 4: Create a dict with your family members and relations(at least 10 names and relations)?\n",
    "# write a program to print your father name?\n",
    "# write a program to print your favorite family member name?"
   ]
  },
  {
   "cell_type": "code",
   "execution_count": 16,
   "id": "50b24fc0",
   "metadata": {},
   "outputs": [
    {
     "name": "stdout",
     "output_type": "stream",
     "text": [
      "Father name is Prasad\n",
      "Favorite family member name is Venkat\n"
     ]
    }
   ],
   "source": [
    "fathername=family[\"family_member\"][0]\n",
    "favmember=family[\"family_member\"][8]\n",
    "print(\"Father name is\",fathername)\n",
    "print(\"Favorite family member name is\",favmember)"
   ]
  },
  {
   "cell_type": "code",
   "execution_count": null,
   "id": "cf7b56ab",
   "metadata": {},
   "outputs": [],
   "source": [
    "# 5: Create a your friend names and their quality(at least 10 names)?\n",
    "# Expected output: {\"friend_names\" : your friend names, \"quality\" : your friend quality}\n",
    "# Example output: {\"friend_names\": [\"ravi\",\"shekar\", \"abbas\",\"jhonny\"], \"quality\" : [\"talk active\", \"anger\", \"intelligent\", \"funny\"]}\n",
    "# write a program to print your intelligent friend name?\n",
    "# write a program to print your best friend name?"
   ]
  },
  {
   "cell_type": "code",
   "execution_count": 21,
   "id": "6467859c",
   "metadata": {},
   "outputs": [],
   "source": [
    "friends_list={\"friend_names\":[\"Uma\",\"Sai\",\"Anil\",\"Sri\",\"Kavitha\",\"Manjula\",\"Ram\",\"Anjali\",\"Vennela\",\"Raghu\"],\"quality\" : [\"Talkative\", \"Intelligent\", \"Funny\", \"Talented\", \"Hyper\", \"Calm\", \"Responsible\", \"Honest\", \"Kind\", \"Humorous\"]}"
   ]
  },
  {
   "cell_type": "code",
   "execution_count": 23,
   "id": "a41d1592",
   "metadata": {},
   "outputs": [
    {
     "name": "stdout",
     "output_type": "stream",
     "text": [
      "Intelligent friend name Sai\n",
      "Best friend name Sri\n"
     ]
    }
   ],
   "source": [
    "intelligentfrnd=friends_list[\"friend_names\"][1]\n",
    "print(\"Intelligent friend name\",intelligentfrnd)\n",
    "bestfrnd=friends_list[\"friend_names\"][3]\n",
    "print(\"Best friend name\",bestfrnd)"
   ]
  },
  {
   "cell_type": "code",
   "execution_count": null,
   "id": "496c2806",
   "metadata": {},
   "outputs": [],
   "source": [
    "# 6: Create a your favorite food names and your rating(at least 10 names)?\n",
    "# Expected output: {\"veg_items\" : food names, \"rating\" : your rating}\n",
    "# {\"nonveg_items\" : food names, \"rating\" : your rating}\n",
    "# write a program to print your rating 1 food name?"
   ]
  },
  {
   "cell_type": "code",
   "execution_count": 35,
   "id": "b0fc7d5b",
   "metadata": {},
   "outputs": [],
   "source": [
    "favorite_food={\"veg_items\":[\"Potato fry\", \"Veg manchurian\", \"Veg fried rice\", \"Corn soup\", \"Tomato rice\"],\"veg_items_rating\":[9,7,1,4,10],\"Nonveg_items\":[\"Chicken fry\", \"Chicken manchurian\", \"Chicken fried rice\", \"Chicken soup\", \"Chicken biryani\"],\"nonveg_items_rating\":[5,3,8,6,2]}"
   ]
  },
  {
   "cell_type": "code",
   "execution_count": 36,
   "id": "cf4e5f0d",
   "metadata": {},
   "outputs": [
    {
     "name": "stdout",
     "output_type": "stream",
     "text": [
      "favorite food is Veg fried rice rating of my favorite food is 1\n"
     ]
    }
   ],
   "source": [
    "favfood=favorite_food[\"veg_items\"][2]\n",
    "rating=favorite_food[\"veg_items_rating\"][2]\n",
    "print(\"favorite food is\", favfood, \"rating of my favorite food is\", rating)"
   ]
  },
  {
   "cell_type": "code",
   "execution_count": null,
   "id": "65ac2074",
   "metadata": {},
   "outputs": [],
   "source": [
    "# 7: Create a your favorite destination(cities) names and your rating(at least 10 names)?\n",
    "# Expected output: {\"destination\" : cities name, \"rating\" : your rating}\n"
   ]
  },
  {
   "cell_type": "code",
   "execution_count": 33,
   "id": "c53ad48b",
   "metadata": {},
   "outputs": [
    {
     "name": "stdout",
     "output_type": "stream",
     "text": [
      "{'City': ['Delhi', 'Kerala', 'Araku', 'Manali', 'Vizag', 'Mumbai', 'Goa', 'Agra', 'Simla', 'Ooty'], 'rating': [10, 8, 6, 9, 5, 4, 1, 2, 7, 3]}\n"
     ]
    }
   ],
   "source": [
    "destination={\"City\":[\"Delhi\",\"Kerala\",\"Araku\",\"Manali\",\"Vizag\",\"Mumbai\",\"Goa\",\"Agra\",\"Simla\",\"Ooty\"],\"rating\":[10,8,6,9,5,4,1,2,7,3]}\n",
    "print(destination)"
   ]
  },
  {
   "cell_type": "code",
   "execution_count": null,
   "id": "9086b69c",
   "metadata": {},
   "outputs": [],
   "source": [
    "# # 8: Create a your favorite destination(cities) names and your rating(at least 10 names)?\n",
    "# Expected output: {\"destination\" : cities name, \"rating\" : your rating}\n",
    "# write a program to print your rating 3 city name?\n"
   ]
  },
  {
   "cell_type": "code",
   "execution_count": 34,
   "id": "4662673d",
   "metadata": {},
   "outputs": [
    {
     "name": "stdout",
     "output_type": "stream",
     "text": [
      "Favorite destination is Ooty rating of my favorite destination is 3\n"
     ]
    }
   ],
   "source": [
    "favcity=destination[\"City\"][9]\n",
    "cityrating=destination[\"rating\"][9]\n",
    "print(\"Favorite destination is\", favcity, \"rating of my favorite destination is\", cityrating)"
   ]
  }
 ],
 "metadata": {
  "kernelspec": {
   "display_name": "Python 3 (ipykernel)",
   "language": "python",
   "name": "python3"
  },
  "language_info": {
   "codemirror_mode": {
    "name": "ipython",
    "version": 3
   },
   "file_extension": ".py",
   "mimetype": "text/x-python",
   "name": "python",
   "nbconvert_exporter": "python",
   "pygments_lexer": "ipython3",
   "version": "3.9.12"
  }
 },
 "nbformat": 4,
 "nbformat_minor": 5
}
